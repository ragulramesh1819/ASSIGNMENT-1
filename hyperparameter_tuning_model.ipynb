{
 "cells": [
  {
   "cell_type": "code",
   "execution_count": 3,
   "metadata": {},
   "outputs": [],
   "source": [
    "from tensorflow.keras.datasets import cifar10\n",
    "import tensorflow as tf\n",
    "from tensorflow.keras.models import Sequential\n",
    "from tensorflow.keras.layers import Conv2D,MaxPool2D,Dense,Flatten,Dropout,Input, AveragePooling2D, Activation,Conv2D, MaxPooling2D, BatchNormalization,Concatenate\n",
    "from tensorflow.keras.callbacks import EarlyStopping, TensorBoard\n",
    "from tensorflow.keras import regularizers, optimizers\n",
    "from tensorflow.keras.preprocessing.image import ImageDataGenerator\n",
    "import joblib"
   ]
  },
  {
   "cell_type": "code",
   "execution_count": 4,
   "metadata": {},
   "outputs": [],
   "source": [
    "\n",
    "#data seperation\n",
    "(x_train, y_train), (x_test, y_test) =cifar10.load_data()\n",
    "x_train = x_train / 255.0\n",
    "x_test = x_test / 255.0"
   ]
  },
  {
   "cell_type": "code",
   "execution_count": 5,
   "metadata": {},
   "outputs": [
    {
     "name": "stdout",
     "output_type": "stream",
     "text": [
      "Model: \"sequential\"\n",
      "_________________________________________________________________\n",
      " Layer (type)                Output Shape              Param #   \n",
      "=================================================================\n",
      " conv2d (Conv2D)             (None, 30, 30, 64)        1792      \n",
      "                                                                 \n",
      " conv2d_1 (Conv2D)           (None, 28, 28, 64)        36928     \n",
      "                                                                 \n",
      " max_pooling2d (MaxPooling2D  (None, 14, 14, 64)       0         \n",
      " )                                                               \n",
      "                                                                 \n",
      " dropout (Dropout)           (None, 14, 14, 64)        0         \n",
      "                                                                 \n",
      " conv2d_2 (Conv2D)           (None, 12, 12, 128)       73856     \n",
      "                                                                 \n",
      " max_pooling2d_1 (MaxPooling  (None, 6, 6, 128)        0         \n",
      " 2D)                                                             \n",
      "                                                                 \n",
      " dropout_1 (Dropout)         (None, 6, 6, 128)         0         \n",
      "                                                                 \n",
      " flatten (Flatten)           (None, 4608)              0         \n",
      "                                                                 \n",
      " dense (Dense)               (None, 1024)              4719616   \n",
      "                                                                 \n",
      " dense_1 (Dense)             (None, 1024)              1049600   \n",
      "                                                                 \n",
      " dense_2 (Dense)             (None, 10)                10250     \n",
      "                                                                 \n",
      "=================================================================\n",
      "Total params: 5,892,042\n",
      "Trainable params: 5,892,042\n",
      "Non-trainable params: 0\n",
      "_________________________________________________________________\n"
     ]
    }
   ],
   "source": [
    "model = Sequential()\n",
    "model.add(Conv2D(filters = 64, kernel_size = (3,3), activation = 'relu', input_shape = (32,32,3)))\n",
    "model.add(Conv2D(filters = 64, kernel_size = (3,3), activation = 'relu'))\n",
    "model.add(MaxPool2D(2,2))\n",
    "model.add(Dropout(0.4))                                                    \n",
    "\n",
    "\n",
    "model.add(Conv2D(filters = 128, kernel_size = (3,3), activation = 'relu'))\n",
    "model.add(MaxPool2D(2,2))\n",
    "model.add(Dropout(0.4))\n",
    "\n",
    "model.add(Flatten())\n",
    "\n",
    "model.add(Dense(units = 1024, activation = 'relu'))\n",
    "\n",
    "model.add(Dense(units = 1024, activation = 'relu'))\n",
    "\n",
    "model.add(Dense(units = 10, activation = 'softmax'))\n",
    "model.summary()"
   ]
  },
  {
   "cell_type": "code",
   "execution_count": 11,
   "metadata": {},
   "outputs": [],
   "source": [
    "#Compile the Model\n",
    "model.compile(optimizer='adam',\n",
    "              loss='sparse_categorical_crossentropy',\n",
    "              metrics=['accuracy'])\n",
    "model.save(\"cifar10_model.h5\")"
   ]
  },
  {
   "cell_type": "code",
   "execution_count": 11,
   "metadata": {},
   "outputs": [
    {
     "name": "stdout",
     "output_type": "stream",
     "text": [
      "Epoch 1/10\n",
      "782/782 [==============================] - 156s 198ms/step - loss: 1.5698 - accuracy: 0.4212 - val_loss: 1.2639 - val_accuracy: 0.5466\n",
      "Epoch 2/10\n",
      "782/782 [==============================] - 149s 190ms/step - loss: 1.1726 - accuracy: 0.5809 - val_loss: 1.0637 - val_accuracy: 0.6170\n",
      "Epoch 3/10\n",
      "782/782 [==============================] - 195s 250ms/step - loss: 1.0075 - accuracy: 0.6412 - val_loss: 0.8806 - val_accuracy: 0.6879\n",
      "Epoch 4/10\n",
      "782/782 [==============================] - 183s 234ms/step - loss: 0.8940 - accuracy: 0.6834 - val_loss: 0.8062 - val_accuracy: 0.7195\n",
      "Epoch 5/10\n",
      "782/782 [==============================] - 155s 198ms/step - loss: 0.8031 - accuracy: 0.7155 - val_loss: 0.7853 - val_accuracy: 0.7240\n",
      "Epoch 6/10\n",
      "782/782 [==============================] - 161s 206ms/step - loss: 0.7365 - accuracy: 0.7413 - val_loss: 0.7416 - val_accuracy: 0.7462\n",
      "Epoch 7/10\n",
      "782/782 [==============================] - 153s 196ms/step - loss: 0.6791 - accuracy: 0.7595 - val_loss: 0.7400 - val_accuracy: 0.7438\n",
      "Epoch 8/10\n",
      "782/782 [==============================] - 114s 145ms/step - loss: 0.6347 - accuracy: 0.7738 - val_loss: 0.7424 - val_accuracy: 0.7463\n",
      "Epoch 9/10\n",
      "782/782 [==============================] - 134s 171ms/step - loss: 0.5950 - accuracy: 0.7880 - val_loss: 0.6900 - val_accuracy: 0.7672\n",
      "Epoch 10/10\n",
      "782/782 [==============================] - 177s 226ms/step - loss: 0.5556 - accuracy: 0.8014 - val_loss: 0.7064 - val_accuracy: 0.7618\n"
     ]
    }
   ],
   "source": [
    "#train the model\n",
    "history = model.fit(x_train, y_train, epochs=10, \n",
    "                    validation_data=(x_test, y_test), batch_size=64)\n"
   ]
  },
  {
   "cell_type": "code",
   "execution_count": 12,
   "metadata": {},
   "outputs": [
    {
     "name": "stdout",
     "output_type": "stream",
     "text": [
      "313/313 - 6s - loss: 0.7064 - accuracy: 0.7618 - 6s/epoch - 18ms/step\n",
      "\n",
      "Test accuracy: 0.76\n"
     ]
    }
   ],
   "source": [
    "#evaluate the model\n",
    "test_loss, test_acc = model.evaluate(x_test, y_test, verbose=2)\n",
    "print(f\"\\nTest accuracy: {test_acc:.2f}\")"
   ]
  }
 ],
 "metadata": {
  "kernelspec": {
   "display_name": "tfenv",
   "language": "python",
   "name": "python3"
  },
  "language_info": {
   "codemirror_mode": {
    "name": "ipython",
    "version": 3
   },
   "file_extension": ".py",
   "mimetype": "text/x-python",
   "name": "python",
   "nbconvert_exporter": "python",
   "pygments_lexer": "ipython3",
   "version": "3.9.21"
  }
 },
 "nbformat": 4,
 "nbformat_minor": 2
}
