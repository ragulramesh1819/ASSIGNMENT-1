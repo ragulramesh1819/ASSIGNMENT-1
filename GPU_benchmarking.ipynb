{
  "cells": [
    {
      "cell_type": "code",
      "execution_count": 2,
      "metadata": {
        "id": "WNDxhx_S4wYa"
      },
      "outputs": [],
      "source": [
        "import tensorflow as tf\n",
        "import time\n",
        "from tensorflow.keras.datasets import cifar10\n",
        "from tensorflow.keras.models import load_model"
      ]
    },
    {
      "cell_type": "code",
      "execution_count": 3,
      "metadata": {
        "colab": {
          "base_uri": "https://localhost:8080/"
        },
        "id": "IjPHhRXw4wYc",
        "outputId": "2908f446-ce28-4660-adce-00d064b53e81"
      },
      "outputs": [
        {
          "name": "stdout",
          "output_type": "stream",
          "text": [
            "Downloading data from https://www.cs.toronto.edu/~kriz/cifar-10-python.tar.gz\n",
            "\u001b[1m170498071/170498071\u001b[0m \u001b[32m━━━━━━━━━━━━━━━━━━━━\u001b[0m\u001b[37m\u001b[0m \u001b[1m4s\u001b[0m 0us/step\n"
          ]
        }
      ],
      "source": [
        "(_, _), (X_test, _) = cifar10.load_data()"
      ]
    },
    {
      "cell_type": "code",
      "execution_count": 4,
      "metadata": {
        "id": "mTLfGtPj4wYc"
      },
      "outputs": [],
      "source": [
        "X_test = X_test / 255.0"
      ]
    },
    {
      "cell_type": "code",
      "execution_count": 5,
      "metadata": {
        "id": "w84XxDPq4wYd"
      },
      "outputs": [],
      "source": [
        "single_sample = X_test[0:1]"
      ]
    },
    {
      "cell_type": "code",
      "execution_count": 6,
      "metadata": {
        "colab": {
          "base_uri": "https://localhost:8080/"
        },
        "id": "xCFiJsA84wYd",
        "outputId": "8faa9bcb-2462-476d-f9af-2a1ab490c25e"
      },
      "outputs": [
        {
          "name": "stderr",
          "output_type": "stream",
          "text": [
            "/usr/local/lib/python3.10/dist-packages/keras/src/saving/saving_lib.py:713: UserWarning: Skipping variable loading for optimizer 'rmsprop', because it has 18 variables whereas the saved optimizer has 34 variables. \n",
            "  saveable.load_own_variables(weights_store.get(inner_path))\n"
          ]
        }
      ],
      "source": [
        "model = load_model('/content/drive/MyDrive/trained models/cifar10_augmented_model.keras')"
      ]
    },
    {
      "cell_type": "code",
      "execution_count": 7,
      "metadata": {
        "id": "nzzvlsEW4wYd"
      },
      "outputs": [],
      "source": [
        "def measure_latency(model, input_data, device, runs=100):\n",
        "    with tf.device(device):\n",
        "        # Warm-up runs (ignored in timing)\n",
        "        for _ in range(10):\n",
        "            _ = model.predict(input_data, verbose=0)\n",
        "\n",
        "        # Measure latency\n",
        "        start_time = time.time()\n",
        "        for _ in range(runs):\n",
        "            _ = model.predict(input_data, verbose=0)\n",
        "        end_time = time.time()\n",
        "\n",
        "    avg_latency = (end_time - start_time) / runs * 1000  # Convert to milliseconds\n",
        "    return avg_latency"
      ]
    },
    {
      "cell_type": "code",
      "execution_count": 1,
      "metadata": {
        "colab": {
          "base_uri": "https://localhost:8080/"
        },
        "id": "arjwIaY_HytF",
        "outputId": "a9b9954d-8732-4986-aebf-bdf3d70016f0"
      },
      "outputs": [
        {
          "name": "stdout",
          "output_type": "stream",
          "text": [
            "Mounted at /content/drive\n"
          ]
        }
      ],
      "source": [
        "from google.colab import drive\n",
        "drive.mount('/content/drive')"
      ]
    },
    {
      "cell_type": "code",
      "execution_count": 8,
      "metadata": {
        "colab": {
          "base_uri": "https://localhost:8080/"
        },
        "id": "LuTjtI8d4wYe",
        "outputId": "c12c9bb4-e6f3-4948-ab5f-a30054664cbd"
      },
      "outputs": [
        {
          "name": "stdout",
          "output_type": "stream",
          "text": [
            "Average GPU Latency: 53.14 ms\n"
          ]
        }
      ],
      "source": [
        "gpu_latency = measure_latency(model, single_sample, device=\"/gpu:0\")\n",
        "print(f\"Average GPU Latency: {gpu_latency:.2f} ms\")"
      ]
    },
    {
      "cell_type": "code",
      "execution_count": null,
      "metadata": {
        "id": "LjqmNHoY4wYf"
      },
      "outputs": [],
      "source": []
    }
  ],
  "metadata": {
    "accelerator": "GPU",
    "colab": {
      "gpuType": "T4",
      "provenance": []
    },
    "kernelspec": {
      "display_name": "Python 3",
      "name": "python3"
    },
    "language_info": {
      "codemirror_mode": {
        "name": "ipython",
        "version": 3
      },
      "file_extension": ".py",
      "mimetype": "text/x-python",
      "name": "python",
      "nbconvert_exporter": "python",
      "pygments_lexer": "ipython3",
      "version": "3.11.0"
    }
  },
  "nbformat": 4,
  "nbformat_minor": 0
}
