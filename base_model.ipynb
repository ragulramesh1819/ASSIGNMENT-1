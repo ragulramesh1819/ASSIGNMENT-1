{
 "cells": [
  {
   "cell_type": "code",
   "execution_count": 1,
   "metadata": {},
   "outputs": [],
   "source": [
    "\n",
    "# importing required libraries\n",
    "import tensorflow as tf\n",
    "from tensorflow.keras import datasets, layers, models\n",
    "import matplotlib.pyplot as plt"
   ]
  },
  {
   "cell_type": "code",
   "execution_count": 2,
   "metadata": {},
   "outputs": [],
   "source": [
    "\n",
    "#data seperation\n",
    "(x_train, y_train), (x_test, y_test) = datasets.cifar10.load_data()\n",
    "x_train = x_train / 255.0\n",
    "x_test = x_test / 255.0"
   ]
  },
  {
   "cell_type": "code",
   "execution_count": 5,
   "metadata": {},
   "outputs": [],
   "source": [
    "#creating a model  with 3 convolution and 2 dense layer\n",
    "model = models.Sequential([\n",
    "\n",
    "    layers.Conv2D(32, (3, 3), activation='relu', input_shape=(32, 32, 3)),\n",
    "    layers.MaxPooling2D((2, 2)),\n",
    "    \n",
    "    layers.Conv2D(64, (3, 3), activation='relu'),\n",
    "    layers.MaxPooling2D((2, 2)),\n",
    "\n",
    "    layers.Conv2D(64, (3, 3), activation='relu'),\n",
    "    \n",
    "    layers.Flatten(),\n",
    "    layers.Dense(64, activation='relu'),\n",
    "    layers.Dense(10, activation='softmax')  # 10 output classes\n",
    "])\n"
   ]
  },
  {
   "cell_type": "code",
   "execution_count": 9,
   "metadata": {},
   "outputs": [],
   "source": [
    "#Compile the Model\n",
    "model.compile(optimizer='adam',\n",
    "              loss='sparse_categorical_crossentropy',\n",
    "              metrics=['accuracy'])"
   ]
  },
  {
   "cell_type": "code",
   "execution_count": 6,
   "metadata": {},
   "outputs": [
    {
     "name": "stdout",
     "output_type": "stream",
     "text": [
      "Epoch 1/10\n",
      "782/782 [==============================] - 30s 38ms/step - loss: 1.5782 - accuracy: 0.4252 - val_loss: 1.3294 - val_accuracy: 0.5271\n",
      "Epoch 2/10\n",
      "782/782 [==============================] - 30s 39ms/step - loss: 1.2132 - accuracy: 0.5712 - val_loss: 1.1366 - val_accuracy: 0.6035\n",
      "Epoch 3/10\n",
      "782/782 [==============================] - 27s 35ms/step - loss: 1.0630 - accuracy: 0.6262 - val_loss: 1.0202 - val_accuracy: 0.6401\n",
      "Epoch 4/10\n",
      "782/782 [==============================] - 29s 36ms/step - loss: 0.9629 - accuracy: 0.6643 - val_loss: 0.9579 - val_accuracy: 0.6658\n",
      "Epoch 5/10\n",
      "782/782 [==============================] - 28s 36ms/step - loss: 0.8842 - accuracy: 0.6927 - val_loss: 0.9116 - val_accuracy: 0.6828\n",
      "Epoch 6/10\n",
      "782/782 [==============================] - 28s 36ms/step - loss: 0.8283 - accuracy: 0.7101 - val_loss: 0.9137 - val_accuracy: 0.6876\n",
      "Epoch 7/10\n",
      "782/782 [==============================] - 28s 36ms/step - loss: 0.7864 - accuracy: 0.7245 - val_loss: 0.8921 - val_accuracy: 0.6918\n",
      "Epoch 8/10\n",
      "782/782 [==============================] - 28s 35ms/step - loss: 0.7374 - accuracy: 0.7445 - val_loss: 0.8733 - val_accuracy: 0.7072\n",
      "Epoch 9/10\n",
      "782/782 [==============================] - 32s 40ms/step - loss: 0.7066 - accuracy: 0.7537 - val_loss: 0.8656 - val_accuracy: 0.7061\n",
      "Epoch 10/10\n",
      "782/782 [==============================] - 36s 46ms/step - loss: 0.6722 - accuracy: 0.7645 - val_loss: 0.8435 - val_accuracy: 0.7158\n"
     ]
    }
   ],
   "source": [
    "#train the model\n",
    "history = model.fit(x_train, y_train, epochs=10, \n",
    "                    validation_data=(x_test, y_test), batch_size=64)\n"
   ]
  },
  {
   "cell_type": "code",
   "execution_count": null,
   "metadata": {},
   "outputs": [
    {
     "name": "stdout",
     "output_type": "stream",
     "text": [
      "313/313 - 2s - loss: 0.8435 - accuracy: 0.7158 - 2s/epoch - 8ms/step\n",
      "\n",
      "Test accuracy: 0.72\n"
     ]
    }
   ],
   "source": [
    "#evaluate the model\n",
    "test_loss, test_acc = model.evaluate(x_test, y_test, verbose=2)\n",
    "print(f\"\\nTest accuracy: {test_acc:.2f}\")"
   ]
  }
 ],
 "metadata": {
  "kernelspec": {
   "display_name": "tfenv",
   "language": "python",
   "name": "python3"
  },
  "language_info": {
   "codemirror_mode": {
    "name": "ipython",
    "version": 3
   },
   "file_extension": ".py",
   "mimetype": "text/x-python",
   "name": "python",
   "nbconvert_exporter": "python",
   "pygments_lexer": "ipython3",
   "version": "3.9.21"
  }
 },
 "nbformat": 4,
 "nbformat_minor": 2
}
