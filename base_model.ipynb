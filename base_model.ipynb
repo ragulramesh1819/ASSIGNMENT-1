{
 "cells": [
  {
   "cell_type": "code",
   "execution_count": 7,
   "metadata": {},
   "outputs": [],
   "source": [
    "\n",
    "# importing required libraries\n",
    "from tensorflow.keras.datasets import cifar10\n",
    "import tensorflow as tf\n",
    "from tensorflow.keras.models import Sequential\n",
    "from tensorflow.keras.layers import Conv2D,MaxPool2D,Dense,Flatten,Dropout,Input, AveragePooling2D, Activation,Conv2D, MaxPooling2D, BatchNormalization,Concatenate\n",
    "from tensorflow.keras.callbacks import EarlyStopping, TensorBoard\n",
    "from tensorflow.keras import regularizers, optimizers"
   ]
  },
  {
   "cell_type": "code",
   "execution_count": 8,
   "metadata": {},
   "outputs": [],
   "source": [
    "\n",
    "#data seperation\n",
    "(x_train, y_train), (x_test, y_test) = datasets.cifar10.load_data()\n",
    "x_train = x_train / 255.0\n",
    "x_test = x_test / 255.0"
   ]
  },
  {
   "cell_type": "code",
   "execution_count": null,
   "metadata": {},
   "outputs": [
    {
     "name": "stdout",
     "output_type": "stream",
     "text": [
      "Model: \"sequential_1\"\n",
      "_________________________________________________________________\n",
      " Layer (type)                Output Shape              Param #   \n",
      "=================================================================\n",
      " conv2d (Conv2D)             (None, 32, 32, 32)        896       \n",
      "                                                                 \n",
      " batch_normalization (BatchN  (None, 32, 32, 32)       128       \n",
      " ormalization)                                                   \n",
      "                                                                 \n",
      " max_pooling2d (MaxPooling2D  (None, 16, 16, 32)       0         \n",
      " )                                                               \n",
      "                                                                 \n",
      " dropout (Dropout)           (None, 16, 16, 32)        0         \n",
      "                                                                 \n",
      " conv2d_1 (Conv2D)           (None, 16, 16, 64)        18496     \n",
      "                                                                 \n",
      " batch_normalization_1 (Batc  (None, 16, 16, 64)       256       \n",
      " hNormalization)                                                 \n",
      "                                                                 \n",
      " max_pooling2d_1 (MaxPooling  (None, 8, 8, 64)         0         \n",
      " 2D)                                                             \n",
      "                                                                 \n",
      " dropout_1 (Dropout)         (None, 8, 8, 64)          0         \n",
      "                                                                 \n",
      " conv2d_2 (Conv2D)           (None, 8, 8, 128)         73856     \n",
      "                                                                 \n",
      " batch_normalization_2 (Batc  (None, 8, 8, 128)        512       \n",
      " hNormalization)                                                 \n",
      "                                                                 \n",
      " max_pooling2d_2 (MaxPooling  (None, 4, 4, 128)        0         \n",
      " 2D)                                                             \n",
      "                                                                 \n",
      " dropout_2 (Dropout)         (None, 4, 4, 128)         0         \n",
      "                                                                 \n",
      " flatten (Flatten)           (None, 2048)              0         \n",
      "                                                                 \n",
      " dense (Dense)               (None, 256)               524544    \n",
      "                                                                 \n",
      " dropout_3 (Dropout)         (None, 256)               0         \n",
      "                                                                 \n",
      " dense_1 (Dense)             (None, 10)                2570      \n",
      "                                                                 \n",
      "=================================================================\n",
      "Total params: 621,258\n",
      "Trainable params: 620,810\n",
      "Non-trainable params: 448\n",
      "_________________________________________________________________\n"
     ]
    }
   ],
   "source": [
    "#creating a model  with 3 convolution and 2 dense layer\n",
    "\n",
    "model = Sequential()\n",
    "\n",
    "# Block 1\n",
    "model.add(Conv2D(32, (3, 3), activation='relu', padding='same', input_shape=(32, 32, 3)))\n",
    "model.add(BatchNormalization())\n",
    "model.add(MaxPool2D((2, 2)))\n",
    "model.add(Dropout(0.3))\n",
    "\n",
    "# Block 2\n",
    "model.add(Conv2D(64, (3, 3), activation='relu', padding='same'))\n",
    "model.add(BatchNormalization())\n",
    "model.add(MaxPool2D((2, 2)))\n",
    "model.add(Dropout(0.3))\n",
    "\n",
    "# Block 3 \n",
    "model.add(Conv2D(128, (3, 3), activation='relu', padding='same'))\n",
    "model.add(BatchNormalization())\n",
    "model.add(MaxPool2D((2, 2)))\n",
    "model.add(Dropout(0.4))\n",
    "\n",
    "# Fully Connected Layer\n",
    "model.add(Flatten())\n",
    "model.add(Dense(256, activation='relu'))  # Increased neurons for more learning capacity\n",
    "model.add(Dropout(0.5))\n",
    "model.add(Dense(10, activation='softmax')) \n",
    "model.summary()\n"
   ]
  },
  {
   "cell_type": "code",
   "execution_count": 10,
   "metadata": {},
   "outputs": [],
   "source": [
    "#Compile the Model\n",
    "model.compile(optimizer='adam',\n",
    "              loss='sparse_categorical_crossentropy',\n",
    "              metrics=['accuracy'])"
   ]
  },
  {
   "cell_type": "code",
   "execution_count": 13,
   "metadata": {},
   "outputs": [
    {
     "name": "stdout",
     "output_type": "stream",
     "text": [
      "Epoch 1/15\n",
      "782/782 [==============================] - 44s 56ms/step - loss: 0.8599 - accuracy: 0.7008 - val_loss: 0.7867 - val_accuracy: 0.7283\n",
      "Epoch 2/15\n",
      "782/782 [==============================] - 68s 87ms/step - loss: 0.8407 - accuracy: 0.7120 - val_loss: 0.8126 - val_accuracy: 0.7208\n",
      "Epoch 3/15\n",
      "782/782 [==============================] - 75s 96ms/step - loss: 0.8227 - accuracy: 0.7175 - val_loss: 0.8505 - val_accuracy: 0.7064\n",
      "Epoch 4/15\n",
      "782/782 [==============================] - 75s 96ms/step - loss: 0.8006 - accuracy: 0.7218 - val_loss: 1.1638 - val_accuracy: 0.6303\n",
      "Epoch 5/15\n",
      "782/782 [==============================] - 76s 97ms/step - loss: 0.7829 - accuracy: 0.7304 - val_loss: 0.6996 - val_accuracy: 0.7674\n",
      "Epoch 6/15\n",
      "782/782 [==============================] - 74s 95ms/step - loss: 0.7625 - accuracy: 0.7377 - val_loss: 0.7580 - val_accuracy: 0.7428\n",
      "Epoch 7/15\n",
      "782/782 [==============================] - 74s 94ms/step - loss: 0.7476 - accuracy: 0.7429 - val_loss: 0.9837 - val_accuracy: 0.6842\n",
      "Epoch 8/15\n",
      "782/782 [==============================] - 74s 95ms/step - loss: 0.7340 - accuracy: 0.7483 - val_loss: 0.7589 - val_accuracy: 0.7484\n",
      "Epoch 9/15\n",
      "782/782 [==============================] - 75s 95ms/step - loss: 0.7219 - accuracy: 0.7524 - val_loss: 0.6839 - val_accuracy: 0.7671\n",
      "Epoch 10/15\n",
      "782/782 [==============================] - 66s 85ms/step - loss: 0.7066 - accuracy: 0.7540 - val_loss: 0.6996 - val_accuracy: 0.7637\n",
      "Epoch 11/15\n",
      "782/782 [==============================] - 75s 95ms/step - loss: 0.6951 - accuracy: 0.7602 - val_loss: 0.6501 - val_accuracy: 0.7719\n",
      "Epoch 12/15\n",
      "782/782 [==============================] - 74s 95ms/step - loss: 0.6893 - accuracy: 0.7622 - val_loss: 0.7027 - val_accuracy: 0.7580\n",
      "Epoch 13/15\n",
      "782/782 [==============================] - 75s 95ms/step - loss: 0.6768 - accuracy: 0.7641 - val_loss: 0.7542 - val_accuracy: 0.7530\n",
      "Epoch 14/15\n",
      "782/782 [==============================] - 77s 98ms/step - loss: 0.6704 - accuracy: 0.7683 - val_loss: 0.6889 - val_accuracy: 0.7623\n",
      "Epoch 15/15\n",
      "782/782 [==============================] - 76s 97ms/step - loss: 0.6598 - accuracy: 0.7697 - val_loss: 0.7690 - val_accuracy: 0.7340\n"
     ]
    },
    {
     "data": {
      "text/plain": [
       "<keras.callbacks.History at 0x2208004fa60>"
      ]
     },
     "execution_count": 13,
     "metadata": {},
     "output_type": "execute_result"
    }
   ],
   "source": [
    "#train the model\n",
    "model.fit(x_train, y_train, epochs=15, validation_data=(x_test, y_test), batch_size=64)\n"
   ]
  },
  {
   "cell_type": "code",
   "execution_count": 14,
   "metadata": {},
   "outputs": [
    {
     "name": "stdout",
     "output_type": "stream",
     "text": [
      "313/313 - 3s - loss: 0.7690 - accuracy: 0.7340 - 3s/epoch - 10ms/step\n",
      "\n",
      "Test accuracy: 0.73\n"
     ]
    }
   ],
   "source": [
    "#evaluate the model\n",
    "test_loss, test_acc = model.evaluate(x_test, y_test, verbose=2)\n",
    "print(f\"\\nTest accuracy: {test_acc:.2f}\")"
   ]
  }
 ],
 "metadata": {
  "kernelspec": {
   "display_name": "tfenv",
   "language": "python",
   "name": "python3"
  },
  "language_info": {
   "codemirror_mode": {
    "name": "ipython",
    "version": 3
   },
   "file_extension": ".py",
   "mimetype": "text/x-python",
   "name": "python",
   "nbconvert_exporter": "python",
   "pygments_lexer": "ipython3",
   "version": "3.9.21"
  }
 },
 "nbformat": 4,
 "nbformat_minor": 2
}
